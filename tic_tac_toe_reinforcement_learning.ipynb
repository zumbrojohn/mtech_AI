{
  "nbformat": 4,
  "nbformat_minor": 0,
  "metadata": {
    "colab": {
      "provenance": []
    },
    "kernelspec": {
      "name": "python3",
      "display_name": "Python 3"
    },
    "language_info": {
      "name": "python"
    }
  },
  "cells": [
    {
      "cell_type": "code",
      "execution_count": 1,
      "metadata": {
        "id": "GfA5v246Ysof"
      },
      "outputs": [],
      "source": [
        "import numpy as np\n",
        "import random\n",
        "\n",
        "class TicTacToe:\n",
        "    def __init__(self):\n",
        "        self.board = np.zeros((3,3))\n",
        "        self.value_function = {}\n",
        "\n",
        "    def get_state(self):\n",
        "        return str(self.board.reshape(-1))\n",
        "\n",
        "    def update_value(self, reward):\n",
        "        state = self.get_state()\n",
        "        if state not in self.value_function:\n",
        "            self.value_function[state] = 0\n",
        "        self.value_function[state] += 0.1 * (reward - self.value_function[state])"
      ]
    },
    {
      "cell_type": "code",
      "source": [
        "class QLearningAgent:\n",
        "    def __init__(self, actions, alpha=0.1, gamma=0.9, epsilon=0.1):\n",
        "        self.q_table = {}  # Stores Q-values for state-action pairs\n",
        "        self.actions = actions\n",
        "        self.alpha = alpha  # Learning rate\n",
        "        self.gamma = gamma  # Discount factor\n",
        "        self.epsilon = epsilon  # Exploration rate\n",
        "\n",
        "    def get_q_value(self, state, action):\n",
        "        return self.q_table.get((state, action), 0)  # Default to 0 if unseen state-action\n",
        "\n",
        "    def update_q_value(self, state, action, reward, next_state):\n",
        "        best_next_q = max([self.get_q_value(next_state, a) for a in self.actions], default=0)\n",
        "        self.q_table[(state, action)] = (1 - self.alpha) * self.get_q_value(state, action) + self.alpha * (reward + self.gamma * best_next_q)\n",
        "\n",
        "    def select_action(self, state):\n",
        "        if np.random.rand() < self.epsilon:\n",
        "            return np.random.choice(self.actions)  # Exploration\n",
        "        else:\n",
        "            q_values = [self.get_q_value(state, a) for a in self.actions]\n",
        "            return self.actions[np.argmax(q_values)]  # Exploitation\n"
      ],
      "metadata": {
        "id": "-Zn7Seq7ZFhi"
      },
      "execution_count": 6,
      "outputs": []
    },
    {
      "cell_type": "code",
      "source": [
        "class MultiArmedBandit:\n",
        "    def __init__(self, k=10):\n",
        "        self.k = k\n",
        "        self.q_true = np.random.normal(0, 1, k)\n",
        "        self.q_est = np.zeros(k)\n",
        "        self.action_counts = np.zeros(k)\n",
        "\n",
        "    def select_action(self, epsilon=0.1):\n",
        "        if random.random() < epsilon:\n",
        "            return np.random.randint(self.k)\n",
        "        return np.argmax(self.q_est)\n",
        "\n",
        "    def update_estimate(self, action, reward):\n",
        "        self.action_counts[action] += 1\n",
        "        self.q_est[action] += (1/self.action_counts[action]) * (reward - self.q_est[action])"
      ],
      "metadata": {
        "id": "qii2uAHxZP2x"
      },
      "execution_count": 3,
      "outputs": []
    },
    {
      "cell_type": "code",
      "source": [
        "if __name__ == \"__main__\":\n",
        "    # Tic Tac Toe Simulation\n",
        "    tic_tac_toe = TicTacToe()\n",
        "    print(\"Tic Tac Toe State Representation:\", tic_tac_toe.get_state())\n",
        "\n",
        "    # Q-Learning Agent Test\n",
        "    actions = list(range(9))  # Tic Tac Toe board positions\n",
        "    q_agent = QLearningAgent(actions)\n",
        "    state = tic_tac_toe.get_state()  # Get state from TicTacToe\n",
        "    action = q_agent.select_action(state)\n",
        "    print(f\"Selected Action by Q-Agent: {action}\")\n",
        "\n",
        "    # 10-Armed Bandit Test\n",
        "    bandit = MultiArmedBandit()\n",
        "    for _ in range(1000):  # Simulate 1000 rounds\n",
        "        action = bandit.select_action(epsilon=0.1)\n",
        "        reward = np.random.normal(bandit.q_true[action], 1)  # Sample from the reward distribution\n",
        "        bandit.update_estimate(action, reward)\n",
        "\n",
        "    print(\"Final Estimated Values of Arms:\", bandit.q_est)\n"
      ],
      "metadata": {
        "colab": {
          "base_uri": "https://localhost:8080/"
        },
        "id": "3DgxAXkkZVPC",
        "outputId": "294a324e-2a6a-475e-a366-f3916cd668b0"
      },
      "execution_count": 7,
      "outputs": [
        {
          "output_type": "stream",
          "name": "stdout",
          "text": [
            "Tic Tac Toe State Representation: [0. 0. 0. 0. 0. 0. 0. 0. 0.]\n",
            "Selected Action by Q-Agent: 0\n",
            "Final Estimated Values of Arms: [-0.34450019  1.13758546  0.48896538  0.95154961 -0.51816908 -0.17645907\n",
            "  0.98262685  0.56456066 -1.04570107  1.24710448]\n"
          ]
        }
      ]
    }
  ]
}